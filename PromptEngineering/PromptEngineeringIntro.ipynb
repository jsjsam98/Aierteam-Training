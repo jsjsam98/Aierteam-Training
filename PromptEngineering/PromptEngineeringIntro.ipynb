{
 "cells": [
  {
   "cell_type": "markdown",
   "metadata": {},
   "source": [
    "For a comprehensive exploration of this topic, refer to the [Prompt Engineering Guide](https://www.promptingguide.ai), which serves as a key resource for this section.\n",
    "\n",
    "### Why Prompt Engineering?\n",
    "For a beginner, learning prompt engineering skills is the best way to understand the capabilities and limitations of large language models (LLMs).\n",
    "\n",
    "### Prompt Engineering Principles\n",
    "1. Give Clear Instruction\n",
    "2. Speciy Format\n",
    "3. Give Few-shots example\n",
    "4. Evaluate Quality\n",
    "4. Make it Reusable & Programmable\n",
    "\n",
    "### Should I prompt the model to answer?\n",
    "For example, when using with Llama-3.2-1B Text Generation Model\n",
    "- prompt 1: \"Q:Explain why sky is blue. A:\" </br>*possible result: Q:Explain why snow is white\n",
    "A:<mark>Snow is white because it is made up of tiny ice crystals that reflect light.</mark>*\n",
    "- prompt 2: \"Explain why snow is white\" </br>*possible result: Explain why snow is white\n",
    "<mark>A. It reflects light.\n",
    "B. It is made of tiny ice crystals.\n",
    "Answer: A</mark>*'\n",
    "\n",
    "Clearly the first one has the result we want, and the second one seems to be completing a question and providing an option.\n",
    "\n",
    "**Short answer**: As of Dec. 2024, if you don't know the answer to this question, you don't need to use a Question-Answer Prompt.\n",
    "**Long answer**: It depends on the type of model you're interacting with and your specific needs:\n",
    "- If you are interacting with a Text Completion Model, and you want a conversation happen, use it.\n",
    "- If you are interacting with an Instruction Model, these models are optimized to handle conversation and instructions, you can simply chat with it as you would normally do.\n"
   ]
  },
  {
   "cell_type": "code",
   "execution_count": 2,
   "metadata": {},
   "outputs": [
    {
     "name": "stdout",
     "output_type": "stream",
     "text": [
      "Hello! How can I assist you today?\n"
     ]
    }
   ],
   "source": [
    "# First Let's setup our experiment environment\n",
    "from openai import OpenAI\n",
    "client = OpenAI()\n",
    "\n",
    "# openai will look for OPENAI_API_KEY in environment variables, you can also set it here, be sure to protect your key.\n",
    "# client.api_key = \"\" \n",
    "def chat(message, system_prompt=\"You are a helpful assistant.\"):\n",
    "    \"\"\"\n",
    "    Function to chat with GPT model\n",
    "\n",
    "    Args:\n",
    "        message: Message to send to the model\n",
    "        system_prompt: System prompt to set assistant behavior (default: helpful assistant)\n",
    "        \n",
    "    Returns:\n",
    "        The model's response text\n",
    "    \"\"\"\n",
    "    completion = client.chat.completions.create(\n",
    "        model=\"gpt-4o-mini\",\n",
    "        messages=[\n",
    "            {\"role\": \"system\", \"content\": system_prompt},\n",
    "            {\"role\": \"user\", \"content\": message}\n",
    "        ],\n",
    "        temperature=0.0\n",
    "    )\n",
    "    return completion.choices[0].message.content"
   ]
  },
  {
   "cell_type": "code",
   "execution_count": 21,
   "metadata": {},
   "outputs": [
    {
     "data": {
      "text/markdown": [
       "## Unclear instruction:\n",
       "\n",
       "Sure! To create a tailored resume, I need some information about you. Please provide the following details:\n",
       "\n",
       "1. **Full Name**\n",
       "2. **Contact Information** (phone number, email, LinkedIn profile, etc.)\n",
       "3. **Professional Summary** (a brief statement about your career goals and skills)\n",
       "4. **Work Experience** (job titles, companies, locations, dates of employment, and key responsibilities/achievements)\n",
       "5. **Education** (degrees, institutions, graduation dates)\n",
       "6. **Skills** (technical skills, soft skills, languages, etc.)\n",
       "7. **Certifications or Licenses** (if applicable)\n",
       "8. **Volunteer Experience or Extracurricular Activities** (if applicable)\n",
       "9. **Any other relevant information** (projects, publications, etc.)\n",
       "\n",
       "Once I have this information, I can help you create a professional resume!\n",
       "\n",
       "## Clear instruction:\n",
       "\n",
       "Certainly! Below is a sample resume for a software engineer with 3 years of Python experience. You can customize it further based on your specific skills, experiences, and education.\n",
       "\n",
       "---\n",
       "\n",
       "**[Your Name]**  \n",
       "[Your Address]  \n",
       "[City, State, Zip]  \n",
       "[Your Phone Number]  \n",
       "[Your Email Address]  \n",
       "[LinkedIn Profile URL]  \n",
       "[GitHub Profile URL]  \n",
       "\n",
       "---\n",
       "\n",
       "**PROFESSIONAL SUMMARY**  \n",
       "Detail-oriented and results-driven Software Engineer with 3 years of experience in developing scalable web applications and data-driven solutions using Python. Proficient in full software development lifecycle, from requirements gathering to deployment and maintenance. Strong problem-solving skills and a passion for learning new technologies.\n",
       "\n",
       "---\n",
       "\n",
       "**TECHNICAL SKILLS**  \n",
       "- **Languages:** Python, JavaScript, HTML, CSS  \n",
       "- **Frameworks:** Django, Flask, FastAPI  \n",
       "- **Databases:** PostgreSQL, MySQL, SQLite  \n",
       "- **Tools & Technologies:** Git, Docker, RESTful APIs, AWS, Jenkins  \n",
       "- **Testing:** PyTest, Unit Testing  \n",
       "- **Methodologies:** Agile, Scrum  \n",
       "\n",
       "---\n",
       "\n",
       "**PROFESSIONAL EXPERIENCE**  \n",
       "\n",
       "**Software Engineer**  \n",
       "[Your Current or Most Recent Company] – [City, State]  \n",
       "[Month, Year] – Present  \n",
       "- Developed and maintained web applications using Python and Django, improving application performance by 30%.\n",
       "- Collaborated with cross-functional teams to gather requirements and design scalable solutions for client projects.\n",
       "- Implemented RESTful APIs to facilitate communication between front-end and back-end systems.\n",
       "- Conducted code reviews and provided mentorship to junior developers, fostering a culture of continuous improvement.\n",
       "- Automated deployment processes using Docker and Jenkins, reducing deployment time by 40%.\n",
       "\n",
       "**Junior Software Engineer**  \n",
       "[Previous Company] – [City, State]  \n",
       "[Month, Year] – [Month, Year]  \n",
       "- Assisted in the development of a data analytics platform using Python and Flask, enabling real-time data processing.\n",
       "- Wrote unit tests and performed debugging to ensure high-quality code and application reliability.\n",
       "- Participated in Agile ceremonies, contributing to sprint planning and retrospectives to enhance team productivity.\n",
       "- Collaborated with the QA team to identify and resolve software defects, improving overall user satisfaction.\n",
       "\n",
       "---\n",
       "\n",
       "**EDUCATION**  \n",
       "\n",
       "**Bachelor of Science in Computer Science**  \n",
       "[Your University] – [City, State]  \n",
       "[Month, Year] – [Month, Year]  \n",
       "\n",
       "---\n",
       "\n",
       "**PROJECTS**  \n",
       "\n",
       "**Personal Portfolio Website**  \n",
       "- Developed a personal portfolio website using Flask and Bootstrap to showcase projects and skills.\n",
       "- Integrated a contact form with email notifications using Python's smtplib library.\n",
       "\n",
       "**Data Visualization Tool**  \n",
       "- Created a data visualization tool using Python and Matplotlib to analyze and visualize large datasets.\n",
       "- Implemented user authentication and data export features, enhancing user experience.\n",
       "\n",
       "---\n",
       "\n",
       "**CERTIFICATIONS**  \n",
       "- Python for Data Science and Machine Learning Bootcamp – [Institution Name]  \n",
       "- AWS Certified Solutions Architect – Associate (if applicable)  \n",
       "\n",
       "---\n",
       "\n",
       "**PROFESSIONAL AFFILIATIONS**  \n",
       "- Member, Association for Computing Machinery (ACM)  \n",
       "- Contributor, Open Source Projects on GitHub  \n",
       "\n",
       "---\n",
       "\n",
       "**REFERENCES**  \n",
       "Available upon request.\n",
       "\n",
       "---\n",
       "\n",
       "Feel free to modify any sections to better fit your experience and background!"
      ],
      "text/plain": [
       "<IPython.core.display.Markdown object>"
      ]
     },
     "metadata": {},
     "output_type": "display_data"
    }
   ],
   "source": [
    "# Example of Unclear vs Clear instructions\n",
    "from IPython.display import Markdown, display\n",
    "\n",
    "result = \"### Unclear instruction:\\n\\n\"\n",
    "response = chat(\"Write me a resume\")\n",
    "result += response + \"\\n\\n\"\n",
    "\n",
    "result += \"### Clear instruction:\\n\\n\"\n",
    "response = chat(\"Write me a resume for a software engineer position with 3 years of Python experience.\")\n",
    "result += response\n",
    "\n",
    "display(Markdown(result))"
   ]
  },
  {
   "cell_type": "code",
   "execution_count": 20,
   "metadata": {},
   "outputs": [
    {
     "data": {
      "text/markdown": [
       "## Without Format Specification:\n",
       "\n",
       "Sure! Here are five fruit names:\n",
       "\n",
       "1. Apple\n",
       "2. Banana\n",
       "3. Orange\n",
       "4. Mango\n",
       "5. Strawberry\n",
       "\n",
       "## With Format Specification:\n",
       "\n",
       "Sure! Here is a JSON list of five fruit names:\n",
       "\n",
       "```json\n",
       "[\n",
       "    \"Apple\",\n",
       "    \"Banana\",\n",
       "    \"Cherry\",\n",
       "    \"Date\",\n",
       "    \"Elderberry\"\n",
       "]\n",
       "```"
      ],
      "text/plain": [
       "<IPython.core.display.Markdown object>"
      ]
     },
     "metadata": {},
     "output_type": "display_data"
    },
    {
     "data": {
      "text/markdown": [
       "{\n",
       "  \"fruits\": [\n",
       "    \"Apple\",\n",
       "    \"Banana\",\n",
       "    \"Cherry\",\n",
       "    \"Date\",\n",
       "    \"Elderberry\"\n",
       "  ]\n",
       "}"
      ],
      "text/plain": [
       "<IPython.core.display.Markdown object>"
      ]
     },
     "metadata": {},
     "output_type": "display_data"
    }
   ],
   "source": [
    "# Example of Specify Format vs Not Specify Format\n",
    "from IPython.display import Markdown, display\n",
    "\n",
    "result = \"### Without Format Specification:\\n\\n\"\n",
    "response = chat(\"Tell me 5 fruit names\")\n",
    "result += response + \"\\n\\n\"\n",
    "\n",
    "result += \"### With Format Specification:\\n\\n\"\n",
    "response = chat(\"\"\"Tell me 5 fruit names in json list format\"\"\")\n",
    "result += response\n",
    "\n",
    "display(Markdown(result))\n",
    "\n",
    "# Use response_format to specify the format of the response\n",
    "completion = client.chat.completions.create(\n",
    "    model=\"gpt-4o-mini\",\n",
    "    messages=[\n",
    "        {\"role\": \"system\", \"content\": \"You are a helpful assistant.\"},\n",
    "        {\"role\": \"user\", \"content\": \"Tell me 5 fruit names in json list format\"}\n",
    "    ],\n",
    "    temperature=0.0,\n",
    "    response_format={\"type\": \"json_object\"}\n",
    ")\n",
    "display(Markdown(completion.choices[0].message.content))"
   ]
  },
  {
   "cell_type": "code",
   "execution_count": 23,
   "metadata": {},
   "outputs": [
    {
     "data": {
      "text/markdown": [
       "### Without Few-shot Examples:\n",
       "\n",
       "The sentiment of the sentence \"I love this movie!\" is positive.\n",
       "\n",
       "### With Few-shot Examples:\n",
       "\n",
       "Output: Positive"
      ],
      "text/plain": [
       "<IPython.core.display.Markdown object>"
      ]
     },
     "metadata": {},
     "output_type": "display_data"
    }
   ],
   "source": [
    "# Example of Few-shots example vs Not Few-shots example\n",
    "from IPython.display import Markdown, display\n",
    "\n",
    "result = \"### Without Few-shot Examples:\\n\\n\"\n",
    "response = chat(\"Classify this sentence's sentiment: 'I love this movie!'\")\n",
    "result += response + \"\\n\\n\"\n",
    "\n",
    "result += \"### With Few-shot Examples:\\n\\n\"\n",
    "response = chat(\"\"\"Classify the sentiment of sentences. Here are some examples:\n",
    "\n",
    "Input: \"This restaurant is terrible\"\n",
    "Output: Negative\n",
    "\n",
    "Input: \"The weather is nice today\"\n",
    "Output: Positive\n",
    "\n",
    "Input: \"I don't have any strong feelings about it\"\n",
    "Output: Neutral\n",
    "\n",
    "Now classify this sentence: 'I love this movie!'\"\"\")\n",
    "result += response\n",
    "\n",
    "display(Markdown(result))\n"
   ]
  },
  {
   "cell_type": "markdown",
   "metadata": {},
   "source": [
    "### [Selected Prompt Examples from OpenAI](https://platform.openai.com/docs/examples)\n",
    "\n",
    "**Grammar correction**\n",
    "\n",
    "*SYSTEM*</br>\n",
    "You will be provided with statements, and your task is to convert them to standard English.</br>\n",
    "*USER*</br>\n",
    "She no went to the market."
   ]
  },
  {
   "cell_type": "code",
   "execution_count": 26,
   "metadata": {},
   "outputs": [
    {
     "data": {
      "text/markdown": [
       "She didn't go to the market."
      ],
      "text/plain": [
       "<IPython.core.display.Markdown object>"
      ]
     },
     "metadata": {},
     "output_type": "display_data"
    }
   ],
   "source": [
    "from IPython.display import Markdown, display\n",
    "\n",
    "completion = client.chat.completions.create(\n",
    "    model=\"gpt-4o-mini\",\n",
    "    messages=[\n",
    "        {\"role\": \"system\", \"content\": \"You will be provided with statements, and your task is to convert them to standard English.\"},\n",
    "        {\"role\": \"user\", \"content\": \"She no went to the market.\"}\n",
    "    ]\n",
    ")\n",
    "\n",
    "display(Markdown(completion.choices[0].message.content))\n"
   ]
  },
  {
   "cell_type": "markdown",
   "metadata": {},
   "source": [
    "*SYSTEM*</br>\n",
    "You will be provided with text, and your task is to translate it into emojis. Do not use any regular text. Do your best with emojis only.</br>\n",
    "*USER*</br>\n",
    "Artificial intelligence is a technology with great promise."
   ]
  },
  {
   "cell_type": "code",
   "execution_count": 29,
   "metadata": {},
   "outputs": [
    {
     "data": {
      "text/markdown": [
       "🤖✨🔮💻🚀"
      ],
      "text/plain": [
       "<IPython.core.display.Markdown object>"
      ]
     },
     "metadata": {},
     "output_type": "display_data"
    }
   ],
   "source": [
    "from IPython.display import Markdown, display\n",
    "\n",
    "message = \"Artificial intelligence is a technology with great promise.\"\n",
    "completion = client.chat.completions.create(\n",
    "    model=\"gpt-4o-mini\",\n",
    "    messages=[\n",
    "        {\"role\": \"system\", \"content\": \"You will be provided with text, and your task is to translate it into emojis. Do not use any regular text. Do your best with emojis only.\"},\n",
    "        {\"role\": \"user\", \"content\": message}\n",
    "    ]\n",
    ")\n",
    "\n",
    "display(Markdown(completion.choices[0].message.content))"
   ]
  }
 ],
 "metadata": {
  "kernelspec": {
   "display_name": "Python 3",
   "language": "python",
   "name": "python3"
  },
  "language_info": {
   "codemirror_mode": {
    "name": "ipython",
    "version": 3
   },
   "file_extension": ".py",
   "mimetype": "text/x-python",
   "name": "python",
   "nbconvert_exporter": "python",
   "pygments_lexer": "ipython3",
   "version": "3.12.2"
  }
 },
 "nbformat": 4,
 "nbformat_minor": 2
}
