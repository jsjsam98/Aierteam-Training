{
 "cells": [
  {
   "cell_type": "code",
   "execution_count": null,
   "metadata": {},
   "outputs": [],
   "source": [
    "# There is a Chinese saying \"窥斑见豹\", it means that if you can see a part of a leopard, you can imagine the whole animal.\n",
    "\n",
    "# a sneak peek for AI101\n"
   ]
  }
 ],
 "metadata": {
  "language_info": {
   "name": "python"
  }
 },
 "nbformat": 4,
 "nbformat_minor": 2
}
