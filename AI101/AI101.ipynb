{
 "cells": [
  {
   "cell_type": "markdown",
   "metadata": {},
   "source": [
    "# AI 101 - Say Hi to AI"
   ]
  },
  {
   "cell_type": "markdown",
   "metadata": {},
   "source": [
    "# Welcome to AI 101! 🚀\n",
    "\n",
    "This AI 101 notebook will guide you through:\n",
    "- Setting up and using OpenAI's API\n",
    "- Finish some reading about Large Language Model\n",
    "- Write your first promt for Chatgpt\n",
    "\n",
    "Let's begin our journey into AI! 🌟\n"
   ]
  },
  {
   "cell_type": "markdown",
   "metadata": {},
   "source": [
    "### By the end of this session, you should be able to answer...\n",
    "\n",
    "-   What is the hierarchy of AI, Machine Learning, Deep Learning, and Large Language Models (LLMs)?\n",
    "-   Why are LLMs considered \"large\"? What is their purpose?\n",
    "-   What is the Transformer architecture, and why is it essential for LLMs?\n",
    "-   How do LLMs differ from traditional machine learning models?\n",
    "-   What is an API, and how does it facilitate communication between applications?\n",
    "-   How can you customize the model’s behavior to act as your representative?\n"
   ]
  },
  {
   "cell_type": "code",
   "execution_count": 12,
   "metadata": {},
   "outputs": [],
   "source": [
    "# setup openai client and api key\n",
    "from openai import OpenAI\n",
    "client = OpenAI()\n",
    "\n",
    "# openai will look for OPENAI_API_KEY in environment variables, you can also set it here, be sure to protect your key.\n",
    "# client.api_key = \"\" "
   ]
  },
  {
   "cell_type": "code",
   "execution_count": 13,
   "metadata": {},
   "outputs": [
    {
     "name": "stdout",
     "output_type": "stream",
     "text": [
      "Hello! How can I assist you today?\n"
     ]
    }
   ],
   "source": [
    "completion = client.chat.completions.create(\n",
    "    model=\"gpt-4o-mini\",\n",
    "    messages=[\n",
    "        {\"role\": \"system\", \"content\": \"You are a helpful assistant.\"},\n",
    "        {\"role\": \"user\", \"content\": \"Hello!\"}\n",
    "    ]\n",
    ")\n",
    "print(completion.choices[0].message.content)"
   ]
  },
  {
   "cell_type": "code",
   "execution_count": 14,
   "metadata": {},
   "outputs": [
    {
     "name": "stdout",
     "output_type": "stream",
     "text": [
      "Hello! How can I assist you today?\n"
     ]
    }
   ],
   "source": [
    "# use https post api to call the chat completion\n",
    "import requests\n",
    "url = \"https://api.openai.com/v1/chat/completions\"\n",
    "headers = {\n",
    "    \"Content-Type\": \"application/json\",\n",
    "    \"Authorization\": f\"Bearer {client.api_key}\"  # Using the existing client's API key\n",
    "}\n",
    "data = {\n",
    "    \"model\": \"gpt-4o-mini\",\n",
    "    \"messages\": [\n",
    "        {\"role\": \"system\", \"content\": \"You are a helpful assistant.\"},\n",
    "        {\"role\": \"user\", \"content\": \"Hello!\"}\n",
    "    ]\n",
    "}\n",
    "response = requests.post(url, headers=headers, json=data)\n",
    "result = response.json()\n",
    "print(result['choices'][0]['message']['content'])"
   ]
  },
  {
   "cell_type": "markdown",
   "metadata": {},
   "source": [
    "### 🤔Heads-up\n",
    "**What is an API?**\n",
    "\n",
    "API (Application Programming Interface) is a set of rules and protocols that allows\n",
    "different software applications to communicate with each other. \n",
    "\n",
    "**Helpful links**\n",
    "\n",
    "https://www.geeksforgeeks.org/rest-api-introduction/\n",
    "\n",
    "**Why do we need this when we have chatgpt.com?**\n",
    "- integrate AI capabilities directly into our applications\n",
    "- process multiple requests programmatically\n",
    "- customize the model parameters and system prompts\n",
    "- build our own user interfaces and experiences\n",
    "- take advantage of different models\n",
    "\n",
    "**Programming Language we will be using**\n",
    "\n",
    "🐍Python!\n"
   ]
  },
  {
   "cell_type": "markdown",
   "metadata": {},
   "source": [
    "### 📖Reading Content\n",
    "\n",
    "*Why 'Large Language Model'*\n",
    "- Large: billions of parameters & trained on immense dataset\n",
    "- Language: Understand, process, and generate human-like text\n",
    "- Model: Built on the Transformer architecture\n",
    "\n",
    "*Large Language Model's position in AI world*\n",
    "<pre>\n",
    "----------------------------\n",
    "|            AI            |\n",
    "|--------------------------|\n",
    "||    Machine Learning    ||\n",
    "|| ---------------------  ||\n",
    "|| |   Deep Learning   |  ||\n",
    "|| |      --------     |  ||\n",
    "|| |      | LLMs |     |  ||\n",
    "|| |      --------     |  ||\n",
    "|| ---------------------  ||\n",
    "|--------------------------|\n",
    "----------------------------\n",
    "</pre>"
   ]
  },
  {
   "cell_type": "markdown",
   "metadata": {},
   "source": [
    "### 📝Write your first prompt for Chatgpt\n",
    "Tell Chatgpt who you are, what you do, and let Chatgpt commnuicate in as a representative of you.\n"
   ]
  },
  {
   "cell_type": "code",
   "execution_count": 15,
   "metadata": {},
   "outputs": [
    {
     "name": "stdout",
     "output_type": "stream",
     "text": [
      "Hello! I'm a software engineer at a tech startup in San Francisco, specializing in building AI-powered applications. I have 5 years of experience in Python development and I'm passionate about using technology to solve real-world problems.\n"
     ]
    }
   ],
   "source": [
    "def chat_as_user(client, user_intro, user_message):\n",
    "    \"\"\"\n",
    "    Function to chat with GPT-4 acting as a representative of the user\n",
    "\n",
    "    Args:\n",
    "        client: OpenAI client instance\n",
    "        user_intro: String containing user's introduction/background\n",
    "        user_message: Message to send to the model\n",
    "        \n",
    "    Returns:\n",
    "        The model's response text\n",
    "    \"\"\"\n",
    "    completion = client.chat.completions.create(\n",
    "        model=\"gpt-4o-mini\",\n",
    "        messages=[\n",
    "            {\"role\": \"system\", \"content\": f\"You will act as a representative of the user. Below is the user's introduction. {user_intro}\"},\n",
    "            {\"role\": \"user\", \"content\": user_message}\n",
    "        ]\n",
    "    )\n",
    "    return completion.choices[0].message.content\n",
    "\n",
    "client = OpenAI()\n",
    "user_intro = \"I am Sarah Chen, a software engineer at a tech startup in San Francisco. I specialize in building AI-powered applications and have 5 years of experience in Python development. I'm passionate about using technology to solve real-world problems.\"\n",
    "\n",
    "response = chat_as_user(client, user_intro, \"Hello! What is your job?\")\n",
    "print(response)"
   ]
  },
  {
   "cell_type": "markdown",
   "metadata": {},
   "source": [
    "### Summary\n",
    "\n",
    "### Next lecture"
   ]
  }
 ],
 "metadata": {
  "kernelspec": {
   "display_name": "Python 3",
   "language": "python",
   "name": "python3"
  },
  "language_info": {
   "codemirror_mode": {
    "name": "ipython",
    "version": 3
   },
   "file_extension": ".py",
   "mimetype": "text/x-python",
   "name": "python",
   "nbconvert_exporter": "python",
   "pygments_lexer": "ipython3",
   "version": "3.12.2"
  }
 },
 "nbformat": 4,
 "nbformat_minor": 2
}
